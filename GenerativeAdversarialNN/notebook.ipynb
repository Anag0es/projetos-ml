{
 "cells": [
  {
   "cell_type": "markdown",
   "metadata": {},
   "source": [
    "## Importando dependências e dados"
   ]
  },
  {
   "cell_type": "code",
   "execution_count": 25,
   "metadata": {},
   "outputs": [
    {
     "name": "stdout",
     "output_type": "stream",
     "text": [
      "Requirement already satisfied: tensorflow in c:\\users\\inteli\\appdata\\local\\programs\\python\\python39\\lib\\site-packages (2.15.0)\n",
      "Collecting tensorflow-gpu\n",
      "  Using cached tensorflow-gpu-2.12.0.tar.gz (2.6 kB)\n",
      "Requirement already satisfied: matplotlib in c:\\users\\inteli\\appdata\\local\\programs\\python\\python39\\lib\\site-packages (3.7.2)\n",
      "Requirement already satisfied: tensorflow-intel==2.15.0 in c:\\users\\inteli\\appdata\\local\\programs\\python\\python39\\lib\\site-packages (from tensorflow) (2.15.0)\n",
      "Requirement already satisfied: tensorflow-io-gcs-filesystem>=0.23.1 in c:\\users\\inteli\\appdata\\local\\programs\\python\\python39\\lib\\site-packages (from tensorflow-intel==2.15.0->tensorflow) (0.31.0)\n",
      "Requirement already satisfied: keras<2.16,>=2.15.0 in c:\\users\\inteli\\appdata\\local\\programs\\python\\python39\\lib\\site-packages (from tensorflow-intel==2.15.0->tensorflow) (2.15.0)\n",
      "Requirement already satisfied: gast!=0.5.0,!=0.5.1,!=0.5.2,>=0.2.1 in c:\\users\\inteli\\appdata\\local\\programs\\python\\python39\\lib\\site-packages (from tensorflow-intel==2.15.0->tensorflow) (0.5.4)\n",
      "Requirement already satisfied: termcolor>=1.1.0 in c:\\users\\inteli\\appdata\\local\\programs\\python\\python39\\lib\\site-packages (from tensorflow-intel==2.15.0->tensorflow) (2.4.0)\n",
      "Requirement already satisfied: tensorflow-estimator<2.16,>=2.15.0 in c:\\users\\inteli\\appdata\\local\\programs\\python\\python39\\lib\\site-packages (from tensorflow-intel==2.15.0->tensorflow) (2.15.0)\n",
      "Requirement already satisfied: protobuf!=4.21.0,!=4.21.1,!=4.21.2,!=4.21.3,!=4.21.4,!=4.21.5,<5.0.0dev,>=3.20.3 in c:\\users\\inteli\\appdata\\local\\programs\\python\\python39\\lib\\site-packages (from tensorflow-intel==2.15.0->tensorflow) (3.20.3)\n",
      "Requirement already satisfied: setuptools in c:\\users\\inteli\\appdata\\local\\programs\\python\\python39\\lib\\site-packages (from tensorflow-intel==2.15.0->tensorflow) (58.1.0)\n",
      "Requirement already satisfied: libclang>=13.0.0 in c:\\users\\inteli\\appdata\\local\\programs\\python\\python39\\lib\\site-packages (from tensorflow-intel==2.15.0->tensorflow) (16.0.6)\n",
      "Requirement already satisfied: astunparse>=1.6.0 in c:\\users\\inteli\\appdata\\local\\programs\\python\\python39\\lib\\site-packages (from tensorflow-intel==2.15.0->tensorflow) (1.6.3)\n",
      "Requirement already satisfied: wrapt<1.15,>=1.11.0 in c:\\users\\inteli\\appdata\\local\\programs\\python\\python39\\lib\\site-packages (from tensorflow-intel==2.15.0->tensorflow) (1.14.1)\n",
      "Requirement already satisfied: flatbuffers>=23.5.26 in c:\\users\\inteli\\appdata\\local\\programs\\python\\python39\\lib\\site-packages (from tensorflow-intel==2.15.0->tensorflow) (23.5.26)\n",
      "Requirement already satisfied: opt-einsum>=2.3.2 in c:\\users\\inteli\\appdata\\local\\programs\\python\\python39\\lib\\site-packages (from tensorflow-intel==2.15.0->tensorflow) (3.3.0)\n",
      "Requirement already satisfied: typing-extensions>=3.6.6 in c:\\users\\inteli\\appdata\\roaming\\python\\python39\\site-packages (from tensorflow-intel==2.15.0->tensorflow) (4.7.1)\n",
      "Requirement already satisfied: absl-py>=1.0.0 in c:\\users\\inteli\\appdata\\local\\programs\\python\\python39\\lib\\site-packages (from tensorflow-intel==2.15.0->tensorflow) (1.4.0)\n",
      "Requirement already satisfied: grpcio<2.0,>=1.24.3 in c:\\users\\inteli\\appdata\\local\\programs\\python\\python39\\lib\\site-packages (from tensorflow-intel==2.15.0->tensorflow) (1.62.0)\n",
      "Requirement already satisfied: h5py>=2.9.0 in c:\\users\\inteli\\appdata\\local\\programs\\python\\python39\\lib\\site-packages (from tensorflow-intel==2.15.0->tensorflow) (3.10.0)\n",
      "Requirement already satisfied: google-pasta>=0.1.1 in c:\\users\\inteli\\appdata\\local\\programs\\python\\python39\\lib\\site-packages (from tensorflow-intel==2.15.0->tensorflow) (0.2.0)\n",
      "Requirement already satisfied: tensorboard<2.16,>=2.15 in c:\\users\\inteli\\appdata\\local\\programs\\python\\python39\\lib\\site-packages (from tensorflow-intel==2.15.0->tensorflow) (2.15.2)\n",
      "Requirement already satisfied: numpy<2.0.0,>=1.23.5 in c:\\users\\inteli\\appdata\\local\\programs\\python\\python39\\lib\\site-packages (from tensorflow-intel==2.15.0->tensorflow) (1.23.5)\n",
      "Requirement already satisfied: packaging in c:\\users\\inteli\\appdata\\roaming\\python\\python39\\site-packages (from tensorflow-intel==2.15.0->tensorflow) (23.1)\n",
      "Requirement already satisfied: ml-dtypes~=0.2.0 in c:\\users\\inteli\\appdata\\local\\programs\\python\\python39\\lib\\site-packages (from tensorflow-intel==2.15.0->tensorflow) (0.2.0)\n",
      "Requirement already satisfied: six>=1.12.0 in c:\\users\\inteli\\appdata\\roaming\\python\\python39\\site-packages (from tensorflow-intel==2.15.0->tensorflow) (1.16.0)\n",
      "Requirement already satisfied: python_version>\"3.7\" in c:\\users\\inteli\\appdata\\local\\programs\\python\\python39\\lib\\site-packages (from tensorflow-gpu) (0.0.2)\n",
      "Requirement already satisfied: fonttools>=4.22.0 in c:\\users\\inteli\\appdata\\local\\programs\\python\\python39\\lib\\site-packages (from matplotlib) (4.42.1)\n",
      "Requirement already satisfied: kiwisolver>=1.0.1 in c:\\users\\inteli\\appdata\\local\\programs\\python\\python39\\lib\\site-packages (from matplotlib) (1.4.5)\n",
      "Requirement already satisfied: pyparsing<3.1,>=2.3.1 in c:\\users\\inteli\\appdata\\local\\programs\\python\\python39\\lib\\site-packages (from matplotlib) (3.0.9)\n",
      "Requirement already satisfied: pillow>=6.2.0 in c:\\users\\inteli\\appdata\\local\\programs\\python\\python39\\lib\\site-packages (from matplotlib) (10.0.0)\n",
      "Requirement already satisfied: cycler>=0.10 in c:\\users\\inteli\\appdata\\local\\programs\\python\\python39\\lib\\site-packages (from matplotlib) (0.11.0)\n",
      "Requirement already satisfied: importlib-resources>=3.2.0 in c:\\users\\inteli\\appdata\\local\\programs\\python\\python39\\lib\\site-packages (from matplotlib) (6.0.1)\n",
      "Requirement already satisfied: python-dateutil>=2.7 in c:\\users\\inteli\\appdata\\roaming\\python\\python39\\site-packages (from matplotlib) (2.8.2)\n",
      "Requirement already satisfied: contourpy>=1.0.1 in c:\\users\\inteli\\appdata\\local\\programs\\python\\python39\\lib\\site-packages (from matplotlib) (1.1.0)\n",
      "Requirement already satisfied: wheel<1.0,>=0.23.0 in c:\\users\\inteli\\appdata\\local\\programs\\python\\python39\\lib\\site-packages (from astunparse>=1.6.0->tensorflow-intel==2.15.0->tensorflow) (0.42.0)\n",
      "Requirement already satisfied: zipp>=3.1.0 in c:\\users\\inteli\\appdata\\roaming\\python\\python39\\site-packages (from importlib-resources>=3.2.0->matplotlib) (3.16.2)\n",
      "Requirement already satisfied: tensorboard-data-server<0.8.0,>=0.7.0 in c:\\users\\inteli\\appdata\\local\\programs\\python\\python39\\lib\\site-packages (from tensorboard<2.16,>=2.15->tensorflow-intel==2.15.0->tensorflow) (0.7.2)\n",
      "Requirement already satisfied: werkzeug>=1.0.1 in c:\\users\\inteli\\appdata\\local\\programs\\python\\python39\\lib\\site-packages (from tensorboard<2.16,>=2.15->tensorflow-intel==2.15.0->tensorflow) (3.0.1)\n",
      "Requirement already satisfied: google-auth-oauthlib<2,>=0.5 in c:\\users\\inteli\\appdata\\local\\programs\\python\\python39\\lib\\site-packages (from tensorboard<2.16,>=2.15->tensorflow-intel==2.15.0->tensorflow) (1.2.0)\n",
      "Requirement already satisfied: google-auth<3,>=1.6.3 in c:\\users\\inteli\\appdata\\local\\programs\\python\\python39\\lib\\site-packages (from tensorboard<2.16,>=2.15->tensorflow-intel==2.15.0->tensorflow) (2.28.1)\n",
      "Requirement already satisfied: requests<3,>=2.21.0 in c:\\users\\inteli\\appdata\\local\\programs\\python\\python39\\lib\\site-packages (from tensorboard<2.16,>=2.15->tensorflow-intel==2.15.0->tensorflow) (2.31.0)\n",
      "Requirement already satisfied: markdown>=2.6.8 in c:\\users\\inteli\\appdata\\local\\programs\\python\\python39\\lib\\site-packages (from tensorboard<2.16,>=2.15->tensorflow-intel==2.15.0->tensorflow) (3.5.2)\n",
      "Requirement already satisfied: rsa<5,>=3.1.4 in c:\\users\\inteli\\appdata\\local\\programs\\python\\python39\\lib\\site-packages (from google-auth<3,>=1.6.3->tensorboard<2.16,>=2.15->tensorflow-intel==2.15.0->tensorflow) (4.9)\n",
      "Requirement already satisfied: cachetools<6.0,>=2.0.0 in c:\\users\\inteli\\appdata\\local\\programs\\python\\python39\\lib\\site-packages (from google-auth<3,>=1.6.3->tensorboard<2.16,>=2.15->tensorflow-intel==2.15.0->tensorflow) (5.3.2)\n",
      "Requirement already satisfied: pyasn1-modules>=0.2.1 in c:\\users\\inteli\\appdata\\local\\programs\\python\\python39\\lib\\site-packages (from google-auth<3,>=1.6.3->tensorboard<2.16,>=2.15->tensorflow-intel==2.15.0->tensorflow) (0.3.0)\n",
      "Requirement already satisfied: requests-oauthlib>=0.7.0 in c:\\users\\inteli\\appdata\\local\\programs\\python\\python39\\lib\\site-packages (from google-auth-oauthlib<2,>=0.5->tensorboard<2.16,>=2.15->tensorflow-intel==2.15.0->tensorflow) (1.3.1)\n",
      "Requirement already satisfied: importlib-metadata>=4.4 in c:\\users\\inteli\\appdata\\roaming\\python\\python39\\site-packages (from markdown>=2.6.8->tensorboard<2.16,>=2.15->tensorflow-intel==2.15.0->tensorflow) (6.8.0)\n",
      "Requirement already satisfied: pyasn1<0.6.0,>=0.4.6 in c:\\users\\inteli\\appdata\\local\\programs\\python\\python39\\lib\\site-packages (from pyasn1-modules>=0.2.1->google-auth<3,>=1.6.3->tensorboard<2.16,>=2.15->tensorflow-intel==2.15.0->tensorflow) (0.5.1)\n",
      "Requirement already satisfied: charset-normalizer<4,>=2 in c:\\users\\inteli\\appdata\\local\\programs\\python\\python39\\lib\\site-packages (from requests<3,>=2.21.0->tensorboard<2.16,>=2.15->tensorflow-intel==2.15.0->tensorflow) (3.2.0)\n",
      "Requirement already satisfied: certifi>=2017.4.17 in c:\\users\\inteli\\appdata\\local\\programs\\python\\python39\\lib\\site-packages (from requests<3,>=2.21.0->tensorboard<2.16,>=2.15->tensorflow-intel==2.15.0->tensorflow) (2023.7.22)\n",
      "Requirement already satisfied: urllib3<3,>=1.21.1 in c:\\users\\inteli\\appdata\\local\\programs\\python\\python39\\lib\\site-packages (from requests<3,>=2.21.0->tensorboard<2.16,>=2.15->tensorflow-intel==2.15.0->tensorflow) (2.0.4)\n",
      "Requirement already satisfied: idna<4,>=2.5 in c:\\users\\inteli\\appdata\\local\\programs\\python\\python39\\lib\\site-packages (from requests<3,>=2.21.0->tensorboard<2.16,>=2.15->tensorflow-intel==2.15.0->tensorflow) (3.4)\n",
      "Requirement already satisfied: oauthlib>=3.0.0 in c:\\users\\inteli\\appdata\\local\\programs\\python\\python39\\lib\\site-packages (from requests-oauthlib>=0.7.0->google-auth-oauthlib<2,>=0.5->tensorboard<2.16,>=2.15->tensorflow-intel==2.15.0->tensorflow) (3.2.2)\n",
      "Requirement already satisfied: MarkupSafe>=2.1.1 in c:\\users\\inteli\\appdata\\local\\programs\\python\\python39\\lib\\site-packages (from werkzeug>=1.0.1->tensorboard<2.16,>=2.15->tensorflow-intel==2.15.0->tensorflow) (2.1.3)\n",
      "Building wheels for collected packages: tensorflow-gpu\n",
      "  Building wheel for tensorflow-gpu (setup.py): started\n",
      "  Building wheel for tensorflow-gpu (setup.py): finished with status 'error'\n",
      "  Running setup.py clean for tensorflow-gpu\n",
      "Failed to build tensorflow-gpu\n",
      "Installing collected packages: tensorflow-gpu\n",
      "    Running setup.py install for tensorflow-gpu: started\n",
      "    Running setup.py install for tensorflow-gpu: finished with status 'error'\n",
      "Note: you may need to restart the kernel to use updated packages.\n"
     ]
    },
    {
     "name": "stderr",
     "output_type": "stream",
     "text": [
      "WARNING: Ignoring invalid distribution -rotobuf (c:\\users\\inteli\\appdata\\local\\programs\\python\\python39\\lib\\site-packages)\n",
      "WARNING: Ignoring invalid distribution -rotobuf (c:\\users\\inteli\\appdata\\local\\programs\\python\\python39\\lib\\site-packages)\n",
      "  ERROR: Command errored out with exit status 1:\n",
      "   command: 'c:\\Users\\Inteli\\AppData\\Local\\Programs\\Python\\Python39\\python.exe' -u -c 'import io, os, sys, setuptools, tokenize; sys.argv[0] = '\"'\"'C:\\\\Users\\\\Inteli\\\\AppData\\\\Local\\\\Temp\\\\pip-install-z4qi6sz6\\\\tensorflow-gpu_f0216b95a3f64efaa415b3cbcf8c4e24\\\\setup.py'\"'\"'; __file__='\"'\"'C:\\\\Users\\\\Inteli\\\\AppData\\\\Local\\\\Temp\\\\pip-install-z4qi6sz6\\\\tensorflow-gpu_f0216b95a3f64efaa415b3cbcf8c4e24\\\\setup.py'\"'\"';f = getattr(tokenize, '\"'\"'open'\"'\"', open)(__file__) if os.path.exists(__file__) else io.StringIO('\"'\"'from setuptools import setup; setup()'\"'\"');code = f.read().replace('\"'\"'\\r\\n'\"'\"', '\"'\"'\\n'\"'\"');f.close();exec(compile(code, __file__, '\"'\"'exec'\"'\"'))' bdist_wheel -d 'C:\\Users\\Inteli\\AppData\\Local\\Temp\\pip-wheel-3c1p8hmr'\n",
      "       cwd: C:\\Users\\Inteli\\AppData\\Local\\Temp\\pip-install-z4qi6sz6\\tensorflow-gpu_f0216b95a3f64efaa415b3cbcf8c4e24\\\n",
      "  Complete output (17 lines):\n",
      "  Traceback (most recent call last):\n",
      "    File \"<string>\", line 1, in <module>\n",
      "    File \"C:\\Users\\Inteli\\AppData\\Local\\Temp\\pip-install-z4qi6sz6\\tensorflow-gpu_f0216b95a3f64efaa415b3cbcf8c4e24\\setup.py\", line 37, in <module>\n",
      "      raise Exception(TF_REMOVAL_WARNING)\n",
      "  Exception:\n",
      "  \n",
      "  =========================================================\n",
      "  The \"tensorflow-gpu\" package has been removed!\n",
      "  \n",
      "  Please install \"tensorflow\" instead.\n",
      "  \n",
      "  Other than the name, the two packages have been identical\n",
      "  since TensorFlow 2.1, or roughly since Sep 2019. For more\n",
      "  information, see: pypi.org/project/tensorflow-gpu\n",
      "  =========================================================\n",
      "  \n",
      "  \n",
      "  ----------------------------------------\n",
      "  ERROR: Failed building wheel for tensorflow-gpu\n",
      "WARNING: Ignoring invalid distribution -rotobuf (c:\\users\\inteli\\appdata\\local\\programs\\python\\python39\\lib\\site-packages)\n",
      "    ERROR: Command errored out with exit status 1:\n",
      "     command: 'c:\\Users\\Inteli\\AppData\\Local\\Programs\\Python\\Python39\\python.exe' -u -c 'import io, os, sys, setuptools, tokenize; sys.argv[0] = '\"'\"'C:\\\\Users\\\\Inteli\\\\AppData\\\\Local\\\\Temp\\\\pip-install-z4qi6sz6\\\\tensorflow-gpu_f0216b95a3f64efaa415b3cbcf8c4e24\\\\setup.py'\"'\"'; __file__='\"'\"'C:\\\\Users\\\\Inteli\\\\AppData\\\\Local\\\\Temp\\\\pip-install-z4qi6sz6\\\\tensorflow-gpu_f0216b95a3f64efaa415b3cbcf8c4e24\\\\setup.py'\"'\"';f = getattr(tokenize, '\"'\"'open'\"'\"', open)(__file__) if os.path.exists(__file__) else io.StringIO('\"'\"'from setuptools import setup; setup()'\"'\"');code = f.read().replace('\"'\"'\\r\\n'\"'\"', '\"'\"'\\n'\"'\"');f.close();exec(compile(code, __file__, '\"'\"'exec'\"'\"'))' install --record 'C:\\Users\\Inteli\\AppData\\Local\\Temp\\pip-record-d91ke0du\\install-record.txt' --single-version-externally-managed --compile --install-headers 'c:\\Users\\Inteli\\AppData\\Local\\Programs\\Python\\Python39\\Include\\tensorflow-gpu'\n",
      "         cwd: C:\\Users\\Inteli\\AppData\\Local\\Temp\\pip-install-z4qi6sz6\\tensorflow-gpu_f0216b95a3f64efaa415b3cbcf8c4e24\\\n",
      "    Complete output (17 lines):\n",
      "    Traceback (most recent call last):\n",
      "      File \"<string>\", line 1, in <module>\n",
      "      File \"C:\\Users\\Inteli\\AppData\\Local\\Temp\\pip-install-z4qi6sz6\\tensorflow-gpu_f0216b95a3f64efaa415b3cbcf8c4e24\\setup.py\", line 37, in <module>\n",
      "        raise Exception(TF_REMOVAL_WARNING)\n",
      "    Exception:\n",
      "    \n",
      "    =========================================================\n",
      "    The \"tensorflow-gpu\" package has been removed!\n",
      "    \n",
      "    Please install \"tensorflow\" instead.\n",
      "    \n",
      "    Other than the name, the two packages have been identical\n",
      "    since TensorFlow 2.1, or roughly since Sep 2019. For more\n",
      "    information, see: pypi.org/project/tensorflow-gpu\n",
      "    =========================================================\n",
      "    \n",
      "    \n",
      "    ----------------------------------------\n",
      "ERROR: Command errored out with exit status 1: 'c:\\Users\\Inteli\\AppData\\Local\\Programs\\Python\\Python39\\python.exe' -u -c 'import io, os, sys, setuptools, tokenize; sys.argv[0] = '\"'\"'C:\\\\Users\\\\Inteli\\\\AppData\\\\Local\\\\Temp\\\\pip-install-z4qi6sz6\\\\tensorflow-gpu_f0216b95a3f64efaa415b3cbcf8c4e24\\\\setup.py'\"'\"'; __file__='\"'\"'C:\\\\Users\\\\Inteli\\\\AppData\\\\Local\\\\Temp\\\\pip-install-z4qi6sz6\\\\tensorflow-gpu_f0216b95a3f64efaa415b3cbcf8c4e24\\\\setup.py'\"'\"';f = getattr(tokenize, '\"'\"'open'\"'\"', open)(__file__) if os.path.exists(__file__) else io.StringIO('\"'\"'from setuptools import setup; setup()'\"'\"');code = f.read().replace('\"'\"'\\r\\n'\"'\"', '\"'\"'\\n'\"'\"');f.close();exec(compile(code, __file__, '\"'\"'exec'\"'\"'))' install --record 'C:\\Users\\Inteli\\AppData\\Local\\Temp\\pip-record-d91ke0du\\install-record.txt' --single-version-externally-managed --compile --install-headers 'c:\\Users\\Inteli\\AppData\\Local\\Programs\\Python\\Python39\\Include\\tensorflow-gpu' Check the logs for full command output.\n",
      "WARNING: Ignoring invalid distribution -rotobuf (c:\\users\\inteli\\appdata\\local\\programs\\python\\python39\\lib\\site-packages)\n",
      "WARNING: Ignoring invalid distribution -rotobuf (c:\\users\\inteli\\appdata\\local\\programs\\python\\python39\\lib\\site-packages)\n",
      "WARNING: Ignoring invalid distribution -rotobuf (c:\\users\\inteli\\appdata\\local\\programs\\python\\python39\\lib\\site-packages)\n",
      "WARNING: You are using pip version 21.2.4; however, version 24.0 is available.\n",
      "You should consider upgrading via the 'c:\\Users\\Inteli\\AppData\\Local\\Programs\\Python\\Python39\\python.exe -m pip install --upgrade pip' command.\n"
     ]
    },
    {
     "name": "stdout",
     "output_type": "stream",
     "text": [
      "Requirement already satisfied: tensorflow-datasets in c:\\users\\inteli\\appdata\\local\\programs\\python\\python39\\lib\\site-packages (4.9.3)Note: you may need to restart the kernel to use updated packages.\n"
     ]
    },
    {
     "name": "stderr",
     "output_type": "stream",
     "text": [
      "WARNING: Ignoring invalid distribution -rotobuf (c:\\users\\inteli\\appdata\\local\\programs\\python\\python39\\lib\\site-packages)\n",
      "WARNING: Ignoring invalid distribution -rotobuf (c:\\users\\inteli\\appdata\\local\\programs\\python\\python39\\lib\\site-packages)\n",
      "WARNING: Ignoring invalid distribution -rotobuf (c:\\users\\inteli\\appdata\\local\\programs\\python\\python39\\lib\\site-packages)\n",
      "WARNING: Ignoring invalid distribution -rotobuf (c:\\users\\inteli\\appdata\\local\\programs\\python\\python39\\lib\\site-packages)\n",
      "WARNING: Ignoring invalid distribution -rotobuf (c:\\users\\inteli\\appdata\\local\\programs\\python\\python39\\lib\\site-packages)\n",
      "WARNING: Ignoring invalid distribution -rotobuf (c:\\users\\inteli\\appdata\\local\\programs\\python\\python39\\lib\\site-packages)\n",
      "WARNING: You are using pip version 21.2.4; however, version 24.0 is available.\n",
      "You should consider upgrading via the 'c:\\Users\\Inteli\\AppData\\Local\\Programs\\Python\\Python39\\python.exe -m pip install --upgrade pip' command.\n"
     ]
    },
    {
     "name": "stdout",
     "output_type": "stream",
     "text": [
      "\n",
      "Requirement already satisfied: numpy in c:\\users\\inteli\\appdata\\local\\programs\\python\\python39\\lib\\site-packages (from tensorflow-datasets) (1.23.5)\n",
      "Requirement already satisfied: etils[enp,epath,etree]>=0.9.0 in c:\\users\\inteli\\appdata\\local\\programs\\python\\python39\\lib\\site-packages (from tensorflow-datasets) (1.5.2)\n",
      "Requirement already satisfied: promise in c:\\users\\inteli\\appdata\\local\\programs\\python\\python39\\lib\\site-packages (from tensorflow-datasets) (2.3)\n",
      "Requirement already satisfied: requests>=2.19.0 in c:\\users\\inteli\\appdata\\local\\programs\\python\\python39\\lib\\site-packages (from tensorflow-datasets) (2.31.0)\n",
      "Requirement already satisfied: wrapt in c:\\users\\inteli\\appdata\\local\\programs\\python\\python39\\lib\\site-packages (from tensorflow-datasets) (1.14.1)\n",
      "Requirement already satisfied: absl-py in c:\\users\\inteli\\appdata\\local\\programs\\python\\python39\\lib\\site-packages (from tensorflow-datasets) (1.4.0)\n",
      "Requirement already satisfied: psutil in c:\\users\\inteli\\appdata\\roaming\\python\\python39\\site-packages (from tensorflow-datasets) (5.9.5)\n",
      "Requirement already satisfied: dm-tree in c:\\users\\inteli\\appdata\\local\\programs\\python\\python39\\lib\\site-packages (from tensorflow-datasets) (0.1.8)\n",
      "Requirement already satisfied: tensorflow-metadata in c:\\users\\inteli\\appdata\\local\\programs\\python\\python39\\lib\\site-packages (from tensorflow-datasets) (1.14.0)\n",
      "Requirement already satisfied: tqdm in c:\\users\\inteli\\appdata\\local\\programs\\python\\python39\\lib\\site-packages (from tensorflow-datasets) (4.66.1)\n",
      "Requirement already satisfied: click in c:\\users\\inteli\\appdata\\local\\programs\\python\\python39\\lib\\site-packages (from tensorflow-datasets) (8.1.7)\n",
      "Requirement already satisfied: toml in c:\\users\\inteli\\appdata\\local\\programs\\python\\python39\\lib\\site-packages (from tensorflow-datasets) (0.10.2)\n",
      "Requirement already satisfied: protobuf>=3.20 in c:\\users\\inteli\\appdata\\local\\programs\\python\\python39\\lib\\site-packages (from tensorflow-datasets) (3.20.3)\n",
      "Requirement already satisfied: termcolor in c:\\users\\inteli\\appdata\\local\\programs\\python\\python39\\lib\\site-packages (from tensorflow-datasets) (2.4.0)\n",
      "Requirement already satisfied: array-record in c:\\users\\inteli\\appdata\\local\\programs\\python\\python39\\lib\\site-packages (from tensorflow-datasets) (0.4.1)\n",
      "Requirement already satisfied: importlib_resources in c:\\users\\inteli\\appdata\\local\\programs\\python\\python39\\lib\\site-packages (from etils[enp,epath,etree]>=0.9.0->tensorflow-datasets) (6.0.1)\n",
      "Requirement already satisfied: fsspec in c:\\users\\inteli\\appdata\\local\\programs\\python\\python39\\lib\\site-packages (from etils[enp,epath,etree]>=0.9.0->tensorflow-datasets) (2023.10.0)\n",
      "Requirement already satisfied: typing_extensions in c:\\users\\inteli\\appdata\\roaming\\python\\python39\\site-packages (from etils[enp,epath,etree]>=0.9.0->tensorflow-datasets) (4.7.1)\n",
      "Requirement already satisfied: zipp in c:\\users\\inteli\\appdata\\roaming\\python\\python39\\site-packages (from etils[enp,epath,etree]>=0.9.0->tensorflow-datasets) (3.16.2)\n",
      "Requirement already satisfied: certifi>=2017.4.17 in c:\\users\\inteli\\appdata\\local\\programs\\python\\python39\\lib\\site-packages (from requests>=2.19.0->tensorflow-datasets) (2023.7.22)\n",
      "Requirement already satisfied: idna<4,>=2.5 in c:\\users\\inteli\\appdata\\local\\programs\\python\\python39\\lib\\site-packages (from requests>=2.19.0->tensorflow-datasets) (3.4)\n",
      "Requirement already satisfied: urllib3<3,>=1.21.1 in c:\\users\\inteli\\appdata\\local\\programs\\python\\python39\\lib\\site-packages (from requests>=2.19.0->tensorflow-datasets) (2.0.4)\n",
      "Requirement already satisfied: charset-normalizer<4,>=2 in c:\\users\\inteli\\appdata\\local\\programs\\python\\python39\\lib\\site-packages (from requests>=2.19.0->tensorflow-datasets) (3.2.0)\n",
      "Requirement already satisfied: colorama in c:\\users\\inteli\\appdata\\roaming\\python\\python39\\site-packages (from click->tensorflow-datasets) (0.4.6)\n",
      "Requirement already satisfied: six in c:\\users\\inteli\\appdata\\roaming\\python\\python39\\site-packages (from promise->tensorflow-datasets) (1.16.0)\n",
      "Requirement already satisfied: googleapis-common-protos<2,>=1.52.0 in c:\\users\\inteli\\appdata\\local\\programs\\python\\python39\\lib\\site-packages (from tensorflow-metadata->tensorflow-datasets) (1.62.0)\n"
     ]
    }
   ],
   "source": [
    "# importando dados do tensorflow\n",
    "%pip install tensorflow tensorflow-gpu matplotlib \n",
    "%pip install tensorflow-datasets\n"
   ]
  },
  {
   "cell_type": "code",
   "execution_count": 26,
   "metadata": {},
   "outputs": [
    {
     "name": "stdout",
     "output_type": "stream",
     "text": [
      "Package                      Version\n",
      "---------------------------- ---------------------\n",
      "absl-py                      1.4.0\n",
      "anyio                        4.0.0\n",
      "argon2-cffi                  23.1.0\n",
      "argon2-cffi-bindings         21.2.0\n",
      "array-record                 0.4.1\n",
      "arrow                        1.2.3\n",
      "asttokens                    2.2.1\n",
      "astunparse                   1.6.3\n",
      "async-lru                    2.0.4\n",
      "attrs                        23.1.0\n",
      "Babel                        2.12.1\n",
      "backcall                     0.2.0\n",
      "beautifulsoup4               4.12.2\n",
      "bleach                       6.0.0\n",
      "cachetools                   5.3.2\n",
      "certifi                      2023.7.22\n",
      "cffi                         1.15.1\n",
      "charset-normalizer           3.2.0\n",
      "click                        8.1.7\n",
      "cloudpickle                  2.2.1\n",
      "colorama                     0.4.6\n",
      "comm                         0.1.4\n",
      "contourpy                    1.1.0\n",
      "cycler                       0.11.0\n",
      "dacite                       1.8.1\n",
      "DateTime                     5.2\n",
      "debugpy                      1.6.7.post1\n",
      "decorator                    5.1.1\n",
      "defusedxml                   0.7.1\n",
      "dm-tree                      0.1.8\n",
      "etils                        1.5.2\n",
      "exceptiongroup               1.1.3\n",
      "executing                    1.2.0\n",
      "Faker                        22.1.0\n",
      "fastjsonschema               2.18.0\n",
      "filelock                     3.13.1\n",
      "flatbuffers                  23.5.26\n",
      "fonttools                    4.42.1\n",
      "fqdn                         1.5.1\n",
      "fsspec                       2023.10.0\n",
      "gast                         0.5.4\n",
      "google-auth                  2.28.1\n",
      "google-auth-oauthlib         1.2.0\n",
      "google-pasta                 0.2.0\n",
      "googleapis-common-protos     1.62.0\n",
      "grpcio                       1.62.0\n",
      "h2o                          3.44.0.3\n",
      "h5py                         3.10.0\n",
      "htmlmin                      0.1.12\n",
      "idna                         3.4\n",
      "ImageHash                    4.3.1\n",
      "importlib-metadata           6.8.0\n",
      "importlib-resources          6.0.1\n",
      "ipykernel                    6.25.1\n",
      "ipython                      8.14.0\n",
      "ipywidgets                   8.1.2\n",
      "isoduration                  20.11.0\n",
      "jedi                         0.19.0\n",
      "Jinja2                       3.1.2\n",
      "joblib                       1.3.2\n",
      "json5                        0.9.14\n",
      "jsonpointer                  2.4\n",
      "jsonschema                   4.19.0\n",
      "jsonschema-specifications    2023.7.1\n",
      "jupyter_client               8.3.0\n",
      "jupyter_core                 5.3.1\n",
      "jupyter-events               0.7.0\n",
      "jupyter-lsp                  2.2.0\n",
      "jupyter_server               2.7.3\n",
      "jupyter_server_terminals     0.4.4\n",
      "jupyterlab                   4.0.6\n",
      "jupyterlab-pygments          0.2.2\n",
      "jupyterlab_server            2.25.0\n",
      "jupyterlab_widgets           3.0.10\n",
      "keras                        2.15.0\n",
      "kiwisolver                   1.4.5\n",
      "libclang                     16.0.6\n",
      "llvmlite                     0.41.0\n",
      "lorem                        0.1.1\n",
      "Markdown                     3.5.2\n",
      "MarkupSafe                   2.1.3\n",
      "matplotlib                   3.7.2\n",
      "matplotlib-inline            0.1.6\n",
      "missingno                    0.5.2\n",
      "mistune                      3.0.1\n",
      "ml-dtypes                    0.2.0\n",
      "mpmath                       1.3.0\n",
      "multimethod                  1.9.1\n",
      "nbclient                     0.8.0\n",
      "nbconvert                    7.8.0\n",
      "nbformat                     5.9.2\n",
      "nest-asyncio                 1.5.7\n",
      "networkx                     3.1\n",
      "nltk                         3.8.1\n",
      "notebook                     7.0.4\n",
      "notebook_shim                0.2.3\n",
      "numba                        0.58.0\n",
      "numpy                        1.23.5\n",
      "oauthlib                     3.2.2\n",
      "opt-einsum                   3.3.0\n",
      "overrides                    7.4.0\n",
      "packaging                    23.1\n",
      "pandas                       2.0.3\n",
      "pandas-profiling             3.6.6\n",
      "pandocfilters                1.5.0\n",
      "parso                        0.8.3\n",
      "patsy                        0.5.3\n",
      "phik                         0.12.3\n",
      "pickleshare                  0.7.5\n",
      "Pillow                       10.0.0\n",
      "pip                          21.2.4\n",
      "platformdirs                 3.10.0\n",
      "plotly                       5.16.1\n",
      "plotly-express               0.4.1\n",
      "prometheus-client            0.17.1\n",
      "promise                      2.3\n",
      "prompt-toolkit               3.0.39\n",
      "protobuf                     3.20.3\n",
      "psutil                       5.9.5\n",
      "PuLP                         2.7.0\n",
      "pure-eval                    0.2.2\n",
      "pyaml                        23.9.6\n",
      "pyasn1                       0.5.1\n",
      "pyasn1-modules               0.3.0\n",
      "pycparser                    2.21\n",
      "pydantic                     1.10.12\n",
      "Pygments                     2.16.1\n",
      "pyparsing                    3.0.9\n",
      "python-dateutil              2.8.2\n",
      "python-json-logger           2.0.7\n",
      "python-version               0.0.2\n",
      "pytz                         2023.3\n",
      "PyWavelets                   1.4.1\n",
      "pywin32                      306\n",
      "pywinpty                     2.0.11\n",
      "PyYAML                       6.0.1\n",
      "pyzmq                        25.1.1\n",
      "referencing                  0.30.2\n",
      "regex                        2023.12.25\n",
      "requests                     2.31.0\n",
      "requests-oauthlib            1.3.1\n",
      "rfc3339-validator            0.1.4\n",
      "rfc3986-validator            0.1.1\n",
      "rpds-py                      0.9.2\n",
      "rsa                          4.9\n",
      "scikit-learn                 1.3.0\n",
      "scikit-optimize              0.9.0\n",
      "scipy                        1.11.2\n",
      "seaborn                      0.12.2\n",
      "Send2Trash                   1.8.2\n",
      "setuptools                   58.1.0\n",
      "shap                         0.42.1\n",
      "six                          1.16.0\n",
      "sklearn                      0.0.post7\n",
      "slicer                       0.0.7\n",
      "sniffio                      1.3.0\n",
      "soupsieve                    2.5\n",
      "stack-data                   0.6.2\n",
      "statsmodels                  0.14.0\n",
      "sympy                        1.12\n",
      "tabulate                     0.9.0\n",
      "tangled-up-in-unicode        0.2.0\n",
      "tenacity                     8.2.3\n",
      "tensorboard                  2.15.2\n",
      "tensorboard-data-server      0.7.2\n",
      "tensorflow                   2.15.0\n",
      "tensorflow-datasets          4.9.3\n",
      "tensorflow-estimator         2.15.0\n",
      "tensorflow-intel             2.15.0\n",
      "tensorflow-io-gcs-filesystem 0.31.0\n",
      "tensorflow-metadata          1.14.0\n",
      "termcolor                    2.4.0\n",
      "terminado                    0.17.1\n",
      "tfds-nightly                 4.9.3.dev202311230044\n",
      "threadpoolctl                3.2.0\n",
      "tinycss2                     1.2.1\n",
      "toml                         0.10.2\n",
      "tomli                        2.0.1\n",
      "torch                        2.1.1\n",
      "torchvision                  0.16.1\n",
      "tornado                      6.3.3\n",
      "tqdm                         4.66.1\n",
      "traitlets                    5.9.0\n",
      "typeguard                    2.13.3\n",
      "typing_extensions            4.7.1\n",
      "tzdata                       2023.3\n",
      "uri-template                 1.3.0\n",
      "urllib3                      2.0.4\n",
      "visions                      0.7.5\n",
      "wcwidth                      0.2.6\n",
      "webcolors                    1.13\n",
      "webencodings                 0.5.1\n",
      "websocket-client             1.6.3\n",
      "Werkzeug                     3.0.1\n",
      "wheel                        0.42.0\n",
      "widgetsnbextension           4.0.10\n",
      "wordcloud                    1.9.2\n",
      "wrapt                        1.14.1\n",
      "xmltodict                    0.13.0\n",
      "ydata-profiling              4.5.1\n",
      "zipp                         3.16.2\n",
      "zope.interface               6.0\n",
      "Note: you may need to restart the kernel to use updated packages.\n"
     ]
    },
    {
     "name": "stderr",
     "output_type": "stream",
     "text": [
      "WARNING: Ignoring invalid distribution -rotobuf (c:\\users\\inteli\\appdata\\local\\programs\\python\\python39\\lib\\site-packages)\n",
      "WARNING: Ignoring invalid distribution -rotobuf (c:\\users\\inteli\\appdata\\local\\programs\\python\\python39\\lib\\site-packages)\n",
      "WARNING: Ignoring invalid distribution -rotobuf (c:\\users\\inteli\\appdata\\local\\programs\\python\\python39\\lib\\site-packages)\n",
      "WARNING: Ignoring invalid distribution -rotobuf (c:\\users\\inteli\\appdata\\local\\programs\\python\\python39\\lib\\site-packages)\n",
      "WARNING: You are using pip version 21.2.4; however, version 24.0 is available.\n",
      "You should consider upgrading via the 'c:\\Users\\Inteli\\AppData\\Local\\Programs\\Python\\Python39\\python.exe -m pip install --upgrade pip' command.\n"
     ]
    }
   ],
   "source": [
    "# lista de pacotes instalados\n",
    "%pip list"
   ]
  },
  {
   "cell_type": "markdown",
   "metadata": {},
   "source": [
    "### gpu do tensorflow"
   ]
  },
  {
   "cell_type": "code",
   "execution_count": 27,
   "metadata": {},
   "outputs": [],
   "source": [
    "# importando pacotes\n",
    "import tensorflow as tf\n",
    "\n",
    "# configurar crescimento dinamico da memoria da GPU\n",
    "gpus = tf.config.experimental.list_physical_devices('GPU')\n",
    "for gpu in gpus:\n",
    "    tf.config.experimental.set_memory_growth(gpu, True)"
   ]
  },
  {
   "cell_type": "markdown",
   "metadata": {},
   "source": [
    "#### pacotes usados no projeto"
   ]
  },
  {
   "cell_type": "code",
   "execution_count": 28,
   "metadata": {},
   "outputs": [],
   "source": [
    "# importando pacotes\n",
    "from matplotlib import pyplot as plt\n",
    "import tensorflow_datasets as tfds\n",
    "import pandas as pd\n"
   ]
  },
  {
   "cell_type": "markdown",
   "metadata": {},
   "source": [
    "#### carregando dados"
   ]
  },
  {
   "cell_type": "code",
   "execution_count": 29,
   "metadata": {},
   "outputs": [],
   "source": [
    "# carregando dados do tensorflow - fashion mnist\n",
    "# transformando dados em dataframe\n",
    "df = tfds.load('fashion_mnist', split='train')"
   ]
  },
  {
   "cell_type": "code",
   "execution_count": 30,
   "metadata": {},
   "outputs": [
    {
     "data": {
      "text/plain": [
       "2"
      ]
     },
     "execution_count": 30,
     "metadata": {},
     "output_type": "execute_result"
    }
   ],
   "source": [
    "df.as_numpy_iterator().next()['label']"
   ]
  },
  {
   "cell_type": "markdown",
   "metadata": {},
   "source": [
    "## Visualizando Dataset"
   ]
  },
  {
   "cell_type": "code",
   "execution_count": 31,
   "metadata": {},
   "outputs": [],
   "source": [
    "import numpy as np"
   ]
  },
  {
   "cell_type": "code",
   "execution_count": 32,
   "metadata": {},
   "outputs": [],
   "source": [
    "dataiter = df.as_numpy_iterator()"
   ]
  },
  {
   "cell_type": "markdown",
   "metadata": {},
   "source": [
    "#### Criando alguns plots"
   ]
  },
  {
   "cell_type": "code",
   "execution_count": 33,
   "metadata": {},
   "outputs": [
    {
     "data": {
      "image/png": "[encoded data removed]",
      "text/plain": [
       "<Figure size 2000x2000 with 4 Axes>"
      ]
     },
     "metadata": {},
     "output_type": "display_data"
    }
   ],
   "source": [
    "# setando o formato do plot\n",
    "fig, ax = plt.subplots(ncols=4, figsize=(20, 20))\n",
    "\n",
    "# plotando quatros imagens\n",
    "for idx in range(4):\n",
    "    # carregando dados\n",
    "    batch = dataiter.next()\n",
    "    # plotando imagem -> squeeze remove a dimensão 1\n",
    "    ax[idx].imshow(np.squeeze(batch['image']))\n",
    "    # setando titulo -> rotulo\n",
    "    ax[idx].set_title(batch['label'])"
   ]
  },
  {
   "cell_type": "code",
   "execution_count": 34,
   "metadata": {},
   "outputs": [],
   "source": [
    "def scale_images(data):\n",
    "    # Extrai a imagem do dicionário de dados\n",
    "    image = data['image']\n",
    "    \n",
    "    # Normaliza os valores de pixel dividindo por 255\n",
    "    # Isso é feito para trazer os valores para o intervalo [0, 1]\n",
    "    return image / 255\n"
   ]
  },
  {
   "cell_type": "code",
   "execution_count": 35,
   "metadata": {},
   "outputs": [],
   "source": [
    "# Aplica a função scale_images a cada elemento do DataFrame df\n",
    "df = df.map(scale_images)\n",
    "\n",
    "# Embaralha os dados no DataFrame df usando um buffer de tamanho 60000\n",
    "df = df.shuffle(60000)\n",
    "\n",
    "# Faz cache dos dados do DataFrame df para melhorar o desempenho ao acessá-los repetidamente\n",
    "df = df.cache()\n",
    "\n",
    "# Agrupa os dados do DataFrame df em lotes de tamanho 128\n",
    "df = df.batch(128)\n",
    "\n",
    "# Pré-carrega 64 lotes de dados do DataFrame df para acelerar o carregamento de dados durante o treinamento\n",
    "df = df.prefetch(64)\n"
   ]
  },
  {
   "cell_type": "code",
   "execution_count": 39,
   "metadata": {},
   "outputs": [
    {
     "data": {
      "text/plain": [
       "(128, 28, 28, 1)"
      ]
     },
     "execution_count": 39,
     "metadata": {},
     "output_type": "execute_result"
    }
   ],
   "source": [
    "# Converte o DataFrame df em um iterador numpy usando o método as_numpy_iterator()\n",
    "# Isso permite iterar sobre os elementos do DataFrame como arrays numpy\n",
    "df.as_numpy_iterator().next().shape\n",
    "\n",
    "# A função .next() é usada para obter o próximo elemento do iterador\n",
    "# Isso é típico em Python 2.x, em Python 3.x usamos next(df.as_numpy_iterator())\n",
    "# Neste contexto, estamos obtendo o próximo elemento do iterador numpy\n",
    "# que representa uma instância de dados do DataFrame\n",
    "\n",
    "# A função .shape é utilizada para acessar a forma do elemento numpy\n",
    "# Isso retorna as dimensões do array numpy, indicando sua estrutura\n",
    "# Por exemplo, para uma matriz, a forma seria (linhas, colunas)\n",
    "# Neste caso, a forma é (128, 28, 28, 1), indicando que temos 128 imagens de 28x28 pixels em escala de cinza\n"
   ]
  }
 ],
 "metadata": {
  "kernelspec": {
   "display_name": "Python 3",
   "language": "python",
   "name": "python3"
  },
  "language_info": {
   "codemirror_mode": {
    "name": "ipython",
    "version": 3
   },
   "file_extension": ".py",
   "mimetype": "text/x-python",
   "name": "python",
   "nbconvert_exporter": "python",
   "pygments_lexer": "ipython3",
   "version": "3.9.9"
  }
 },
 "nbformat": 4,
 "nbformat_minor": 2
}
